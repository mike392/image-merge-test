{
 "cells": [
  {
   "cell_type": "code",
   "execution_count": 1,
   "id": "7c32ee3df0a24548",
   "metadata": {
    "collapsed": false,
    "ExecuteTime": {
     "end_time": "2024-01-21T16:06:21.244892Z",
     "start_time": "2024-01-21T16:06:17.677881Z"
    }
   },
   "outputs": [
    {
     "name": "stderr",
     "output_type": "stream",
     "text": [
      "/Users/mikhail.barsukou/Library/Python/3.9/lib/python/site-packages/urllib3/__init__.py:34: NotOpenSSLWarning: urllib3 v2 only supports OpenSSL 1.1.1+, currently the 'ssl' module is compiled with 'LibreSSL 2.8.3'. See: https://github.com/urllib3/urllib3/issues/3020\n",
      "  warnings.warn(\n"
     ]
    }
   ],
   "source": [
    "from keras.models import Model\n",
    "from keras.layers import Input, Concatenate, Conv2D, LeakyReLU, BatchNormalization, Flatten, Dense, UpSampling2D, Reshape\n",
    "from keras.preprocessing import image\n",
    "from keras.optimizers import Adam\n",
    "from keras import activations\n",
    "import numpy as np\n",
    "from PIL import Image"
   ]
  },
  {
   "cell_type": "code",
   "execution_count": 2,
   "id": "2a0395f73877a643",
   "metadata": {
    "collapsed": false,
    "ExecuteTime": {
     "end_time": "2024-01-21T16:06:21.249242Z",
     "start_time": "2024-01-21T16:06:21.245898Z"
    }
   },
   "outputs": [],
   "source": [
    "target_size = (900, 400)\n",
    "head_x, head_y = 200, 150  # Replace with the actual coordinates\n",
    "\n",
    "# Normalize the coordinates\n",
    "normalized_head_x = head_x / target_size[1]\n",
    "normalized_head_y = head_y / target_size[0]\n",
    "\n",
    "# Use the normalized coordinates as input to the model\n",
    "input_head_position = np.array([[normalized_head_x, normalized_head_y]])"
   ]
  },
  {
   "cell_type": "code",
   "execution_count": 3,
   "id": "6f76c61b4d6ac925",
   "metadata": {
    "collapsed": false,
    "ExecuteTime": {
     "end_time": "2024-01-21T16:06:21.253039Z",
     "start_time": "2024-01-21T16:06:21.248661Z"
    }
   },
   "outputs": [],
   "source": [
    "# Function to load and preprocess an image\n",
    "def load_and_preprocess_image(image_path):\n",
    "    img = Image.open(image_path)\n",
    "    img = img.convert('RGB')\n",
    "    img = img.resize(target_size[::-1], Image.Resampling.LANCZOS)\n",
    "    # img = image.load_img(image_path, target_size=target_size)\n",
    "    img_array = image.img_to_array(img)\n",
    "    img_array = np.expand_dims(img_array, axis=0)\n",
    "    img_array /= 255.0  # Normalize pixel values to between 0 and 1\n",
    "    return img_array"
   ]
  },
  {
   "cell_type": "code",
   "execution_count": 4,
   "id": "aa20939a9a436e84",
   "metadata": {
    "collapsed": false,
    "ExecuteTime": {
     "end_time": "2024-01-21T16:06:21.256829Z",
     "start_time": "2024-01-21T16:06:21.251682Z"
    }
   },
   "outputs": [],
   "source": [
    "# Function to create a segmentation mask (1 for foreground, 0 for background)\n",
    "def create_segmentation_mask(img_array):\n",
    "    # Assuming a simple segmentation mask based on pixel intensity.\n",
    "    mask = np.mean(img_array, axis=-1, keepdims=True) > 0.5\n",
    "    # mask = image.array_to_img(mask[0, :, :, 0])\n",
    "    # mask = mask.resize(target_size, Image.Resampling.LANCZOS)\n",
    "    # mask = image.img_to_array(mask)\n",
    "    # mask /= 255.0\n",
    "    return mask"
   ]
  },
  {
   "cell_type": "code",
   "execution_count": 5,
   "id": "9bff27fccc662c69",
   "metadata": {
    "collapsed": false,
    "ExecuteTime": {
     "end_time": "2024-01-21T16:06:21.409568Z",
     "start_time": "2024-01-21T16:06:21.254031Z"
    }
   },
   "outputs": [],
   "source": [
    "# Load two input images\n",
    "input_person_image = load_and_preprocess_image('person_image.png')  # Replace with the actual path\n",
    "input_dress_image = load_and_preprocess_image('dress_image.png')  # Replace with the actual path"
   ]
  },
  {
   "cell_type": "code",
   "execution_count": 6,
   "id": "b563c5ebcbc1102",
   "metadata": {
    "collapsed": false,
    "ExecuteTime": {
     "end_time": "2024-01-21T16:06:21.414340Z",
     "start_time": "2024-01-21T16:06:21.411063Z"
    }
   },
   "outputs": [
    {
     "data": {
      "text/plain": "(1, 2)"
     },
     "execution_count": 6,
     "metadata": {},
     "output_type": "execute_result"
    }
   ],
   "source": [
    "input_head_position.shape"
   ]
  },
  {
   "cell_type": "code",
   "execution_count": 7,
   "id": "90524c40-97ea-4414-ae9e-ba1e01b49a6a",
   "metadata": {
    "ExecuteTime": {
     "end_time": "2024-01-21T16:06:21.418680Z",
     "start_time": "2024-01-21T16:06:21.413990Z"
    }
   },
   "outputs": [
    {
     "data": {
      "text/plain": "(1, 900, 400, 3)"
     },
     "execution_count": 7,
     "metadata": {},
     "output_type": "execute_result"
    }
   ],
   "source": [
    "input_dress_image.shape"
   ]
  },
  {
   "cell_type": "code",
   "execution_count": 8,
   "id": "6973157398532f88",
   "metadata": {
    "collapsed": false,
    "ExecuteTime": {
     "end_time": "2024-01-21T16:06:21.665572Z",
     "start_time": "2024-01-21T16:06:21.655768Z"
    }
   },
   "outputs": [],
   "source": [
    "# Create segmentation masks for the person and dress images\n",
    "person_mask = create_segmentation_mask(input_person_image)\n",
    "dress_mask = create_segmentation_mask(input_dress_image)\n",
    "# Resize the masks to match the input image dimensions\n",
    "person_mask = np.array(Image.fromarray(person_mask[0, :, :, 0]).resize((target_size[1], target_size[0])))\n",
    "dress_mask = np.array(Image.fromarray(dress_mask[0, :, :, 0]).resize((target_size[1], target_size[0])))\n",
    "\n",
    "# Expand dimensions to match the input shape\n",
    "person_mask = np.expand_dims(person_mask, axis=-1)\n",
    "dress_mask = np.expand_dims(dress_mask, axis=-1)"
   ]
  },
  {
   "cell_type": "code",
   "execution_count": 9,
   "outputs": [
    {
     "data": {
      "text/plain": "(900, 400, 1)"
     },
     "execution_count": 9,
     "metadata": {},
     "output_type": "execute_result"
    }
   ],
   "source": [
    "person_mask.shape"
   ],
   "metadata": {
    "collapsed": false,
    "ExecuteTime": {
     "end_time": "2024-01-21T16:06:22.902893Z",
     "start_time": "2024-01-21T16:06:22.892723Z"
    }
   },
   "id": "ab8039f812b58726"
  },
  {
   "cell_type": "code",
   "execution_count": 10,
   "outputs": [],
   "source": [
    "# Define input layers\n",
    "# input_person = Input(shape=(target_size[0]*4, target_size[1]*4, 3), name='input_person')\n",
    "# input_dress = Input(shape=(target_size[0]*4, target_size[1]*4, 3), name='input_dress')\n",
    "# input_head_position = Input(shape=(2,), name='input_head_position')  # Example: (x, y) coordinates"
   ],
   "metadata": {
    "collapsed": false,
    "ExecuteTime": {
     "end_time": "2024-01-21T16:06:23.412610Z",
     "start_time": "2024-01-21T16:06:23.407699Z"
    }
   },
   "id": "e8a64c82baeb95fa"
  },
  {
   "cell_type": "code",
   "execution_count": 11,
   "outputs": [],
   "source": [
    "# Concatenate the person and dress images along the channels axis\n",
    "# concatenated_input = Concatenate(axis=-1)([input_person, input_dress])"
   ],
   "metadata": {
    "collapsed": false,
    "ExecuteTime": {
     "end_time": "2024-01-21T16:06:23.743695Z",
     "start_time": "2024-01-21T16:06:23.735280Z"
    }
   },
   "id": "94a7c568d58d0551"
  },
  {
   "cell_type": "code",
   "execution_count": 12,
   "outputs": [],
   "source": [
    " # Add a Dense layer to incorporate head position information\n",
    "# head_position_embedding = Dense(64, activation='relu')(input_head_position)\n",
    "# head_position_embedding = Dense(64, activation='relu')(head_position_embedding)\n",
    "# head_position_embedding = Dense(128, activation='relu')(head_position_embedding)\n",
    "# expanded_head_position = Dense(target_size[0] * target_size[1], activation='relu')(input_head_position)\n",
    "# expanded_head_position = Reshape((target_size[0], target_size[1], 1))(expanded_head_position)"
   ],
   "metadata": {
    "collapsed": false,
    "ExecuteTime": {
     "end_time": "2024-01-21T16:06:23.901713Z",
     "start_time": "2024-01-21T16:06:23.896092Z"
    }
   },
   "id": "2385fd12158029b2"
  },
  {
   "cell_type": "code",
   "execution_count": 13,
   "outputs": [],
   "source": [
    "# Concatenate the expanded head position with the concatenated input\n",
    "# concatenated_input_with_position = Concatenate(axis=-1)([concatenated_input, expanded_head_position])"
   ],
   "metadata": {
    "collapsed": false,
    "ExecuteTime": {
     "end_time": "2024-01-21T16:06:24.857438Z",
     "start_time": "2024-01-21T16:06:24.851206Z"
    }
   },
   "id": "2ef636ae41aeaf68"
  },
  {
   "cell_type": "code",
   "execution_count": 14,
   "id": "422d4df68a1e5990",
   "metadata": {
    "collapsed": false,
    "ExecuteTime": {
     "end_time": "2024-01-21T16:06:25.190550Z",
     "start_time": "2024-01-21T16:06:25.187193Z"
    }
   },
   "outputs": [],
   "source": [
    "# Generator network\n",
    "def build_generator():\n",
    "    input_person = Input(shape=(target_size[0], target_size[1], 3), name='input_person')\n",
    "    input_dress = Input(shape=(target_size[0], target_size[1], 3), name='input_dress')\n",
    "    # input_head_position = Input(shape=(1,2), name='input_head_position')  # Example: (x, y) coordinates\n",
    "    # Concatenate the person and dress images along the channels axis\n",
    "    concatenated_input = Concatenate(axis=-1)([input_person, input_dress])\n",
    "    print(concatenated_input.shape)\n",
    "    # Add a Dense layer to incorporate head position information\n",
    "    # head_position_embedding = Dense(64, activation='relu')(input_head_position)\n",
    "    # head_position_embedding = Dense(64, activation='relu')(head_position_embedding)\n",
    "    # head_position_embedding = Dense(128, activation='relu')(head_position_embedding)\n",
    "    # expanded_head_position = Dense(target_size[0] * target_size[1], activation='relu')(input_head_position)\n",
    "    # expanded_head_position = Reshape((target_size[0], target_size[1], 1))(expanded_head_position)\n",
    "    # # Concatenate the expanded head position with the concatenated input\n",
    "    # concatenated_input_with_position = Concatenate(axis=-1)([concatenated_input, expanded_head_position])\n",
    "    gen = Conv2D(64, (3, 3), activation=activations.gelu, padding='same')(concatenated_input)\n",
    "    # gen = UpSampling2D((2, 2))(gen)\n",
    "    gen = Conv2D(32, (3, 3), activation=activations.gelu, padding='same')(gen)\n",
    "    gen = Conv2D(64, (3, 3), activation=activations.gelu, padding='same')(gen)\n",
    "    gen = Conv2D(64, (3, 3), activation=activations.gelu, padding='same')(gen)\n",
    "    gen = Conv2D(64, (3, 3), activation=activations.gelu, padding='same')(gen)\n",
    "    gen = Conv2D(32, (3, 3), activation=activations.gelu, padding='same')(gen)\n",
    "    # gen = UpSampling2D((2, 2))(gen)\n",
    "    output_img = Conv2D(3, (3, 3), activation=activations.sigmoid, padding='same')(gen)\n",
    "    # Apply segmentation masks to preserve the background\n",
    "    print(output_img.shape)\n",
    "    print(person_mask.shape)\n",
    "    print(input_person.shape)\n",
    "    output_img = output_img * (1 - person_mask) + input_person * person_mask\n",
    "    output_img = output_img * (1 - dress_mask) + input_dress * dress_mask\n",
    "    # Create the generator model\n",
    "    generator = Model(inputs=[input_person, input_dress], outputs=output_img)\n",
    "    return generator"
   ]
  },
  {
   "cell_type": "code",
   "execution_count": 15,
   "outputs": [],
   "source": [
    "# Discriminator\n",
    "def build_discriminator(input_shape):\n",
    "    input_img = Input(shape=input_shape)\n",
    "    x = Conv2D(64, (3, 3), strides=(2, 2), padding='same')(input_img)\n",
    "    x = LeakyReLU(alpha=0.2)(x)\n",
    "    x = BatchNormalization()(x)\n",
    "\n",
    "    # Add more layers as needed\n",
    "\n",
    "    x = Flatten()(x)\n",
    "    validity = Dense(1, activation='sigmoid')(x)\n",
    "\n",
    "    discriminator = Model(inputs=input_img, outputs=validity)\n",
    "    return discriminator"
   ],
   "metadata": {
    "collapsed": false,
    "ExecuteTime": {
     "end_time": "2024-01-21T16:06:25.634068Z",
     "start_time": "2024-01-21T16:06:25.629653Z"
    }
   },
   "id": "75776c385f8c91a1"
  },
  {
   "cell_type": "code",
   "execution_count": 16,
   "outputs": [],
   "source": [
    "# Combined model (GAN)\n",
    "def build_gan(generator, discriminator):\n",
    "    # Disable training of the discriminator during GAN training\n",
    "    discriminator.trainable = False\n",
    "\n",
    "    # Build GAN by chaining the generator and discriminator\n",
    "    input_person = Input(shape=(target_size[0], target_size[1], 3), name='input_person')\n",
    "    input_dress = Input(shape=(target_size[0], target_size[1], 3), name='input_dress')\n",
    "    # input_head_position = Input(shape=(1,2), name='input_head_position')  # Example: (x, y) coordinates\n",
    "\n",
    "    # Generate an image using the generator\n",
    "    generated_img = generator([input_person, input_dress])\n",
    "\n",
    "    # Discriminator's decision on the generated image\n",
    "    validity = discriminator(generated_img)\n",
    "\n",
    "    # Combined GAN model\n",
    "    gan = Model(inputs=[input_person, input_dress], outputs=validity)\n",
    "    return gan"
   ],
   "metadata": {
    "collapsed": false,
    "ExecuteTime": {
     "end_time": "2024-01-21T16:06:26.753474Z",
     "start_time": "2024-01-21T16:06:26.747316Z"
    }
   },
   "id": "581c7cb4b4a946ea"
  },
  {
   "cell_type": "code",
   "execution_count": 17,
   "id": "18eae0057b4322b7",
   "metadata": {
    "collapsed": false,
    "ExecuteTime": {
     "end_time": "2024-01-21T16:06:28.104443Z",
     "start_time": "2024-01-21T16:06:27.937418Z"
    }
   },
   "outputs": [
    {
     "name": "stderr",
     "output_type": "stream",
     "text": [
      "WARNING:absl:At this time, the v2.11+ optimizer `tf.keras.optimizers.Adam` runs slowly on M1/M2 Macs, please use the legacy Keras optimizer instead, located at `tf.keras.optimizers.legacy.Adam`.\n"
     ]
    },
    {
     "name": "stdout",
     "output_type": "stream",
     "text": [
      "(None, 900, 400, 6)\n",
      "(None, 900, 400, 3)\n",
      "(900, 400, 1)\n",
      "(None, 900, 400, 3)\n"
     ]
    }
   ],
   "source": [
    "# Build the generator, discriminator, and GAN\n",
    "generator = build_generator()\n",
    "discriminator = build_discriminator(input_shape=(target_size[0], target_size[1], 3))\n",
    "# Compile the discriminator model\n",
    "discriminator.compile(optimizer='adam', loss='binary_crossentropy', metrics=['accuracy'])\n",
    "\n",
    "# Compile the generator model\n",
    "generator.compile(optimizer='adam', loss='binary_crossentropy', metrics=['accuracy'])\n",
    "gan = build_gan(generator, discriminator)\n",
    "gan.compile(optimizer=Adam(learning_rate=0.0002, beta_1=0.5), loss='binary_crossentropy')"
   ]
  },
  {
   "cell_type": "code",
   "execution_count": null,
   "id": "1a4a99ce516c813f",
   "metadata": {
    "collapsed": false,
    "ExecuteTime": {
     "start_time": "2024-01-21T16:00:33.970432Z"
    }
   },
   "outputs": [
    {
     "name": "stdout",
     "output_type": "stream",
     "text": [
      "(320, 900, 400, 3)\n",
      "(320, 900, 400, 3)\n",
      "(1, 2)\n",
      "10/10 [==============================] - 79s 8s/step\n"
     ]
    }
   ],
   "source": [
    "person_images = np.full((1000, 900, 400, 3), input_person_image)\n",
    "dress_images = np.full((1000, 900, 400, 3), input_dress_image)\n",
    "# Set the number of training iterations\n",
    "num_iterations = 10\n",
    "\n",
    "# Set the batch size\n",
    "batch_size = 320\n",
    "\n",
    "# Set the update ratio (how many times to update the discriminator per generator update)\n",
    "update_ratio = 1\n",
    "\n",
    "# Training loop\n",
    "for iteration in range(num_iterations):\n",
    "    # ---------------------\n",
    "    # Train Discriminator\n",
    "    # ---------------------\n",
    "    for _ in range(update_ratio):\n",
    "        # Select a random batch of real person and dress images\n",
    "        idx = np.random.randint(0, person_images.shape[0], batch_size)\n",
    "        real_person_batch = person_images[idx]\n",
    "        real_dress_batch = dress_images[idx]\n",
    "        print(real_person_batch.shape)\n",
    "        print(real_dress_batch.shape)\n",
    "        print(input_head_position.shape)\n",
    "\n",
    "        # Generate a batch of fake images using the current generator\n",
    "        generated_images = generator.predict([real_person_batch, real_dress_batch])\n",
    "\n",
    "        # Create labels for real and fake samples\n",
    "        real_labels = np.ones((batch_size, 1))\n",
    "        fake_labels = np.zeros((batch_size, 1))\n",
    "\n",
    "        # Train the discriminator on real samples\n",
    "        d_loss_real = discriminator.train_on_batch([generated_images], real_labels)\n",
    "\n",
    "        # Train the discriminator on fake samples\n",
    "        d_loss_fake = discriminator.train_on_batch([generated_images], fake_labels)\n",
    "\n",
    "        # Calculate total discriminator loss\n",
    "        d_loss = 0.5 * np.add(d_loss_real, d_loss_fake)\n",
    "\n",
    "    # ---------------------\n",
    "    # Train Generator\n",
    "    # ---------------------\n",
    "    # Select a new batch of real person and dress images\n",
    "    idx = np.random.randint(0, person_images.shape[0], batch_size)\n",
    "    real_person_batch = person_images[idx]\n",
    "    real_dress_batch = dress_images[idx]\n",
    "\n",
    "    # Create labels for the generator (tricking the discriminator)\n",
    "    valid_labels = np.ones((batch_size, 1))\n",
    "\n",
    "    # Train the generator to minimize the discriminator's loss\n",
    "    g_loss = gan.train_on_batch([real_person_batch, real_dress_batch], valid_labels)\n",
    "\n",
    "    # Print progress and losses (optional)\n",
    "    # if iteration % 100 == 0:\n",
    "    print(f\"Iteration {iteration}, D Loss: {d_loss[0]}, G Loss: {g_loss}\")"
   ]
  },
  {
   "cell_type": "code",
   "execution_count": null,
   "id": "a160f12ba98bb5ec",
   "metadata": {
    "collapsed": false
   },
   "outputs": [],
   "source": [
    "# Display the model summary\n",
    "generator.summary()"
   ]
  },
  {
   "cell_type": "code",
   "execution_count": 18,
   "id": "77b36b2ac15927b2",
   "metadata": {
    "collapsed": false,
    "ExecuteTime": {
     "end_time": "2024-01-21T16:06:38.624469Z",
     "start_time": "2024-01-21T16:06:37.943513Z"
    }
   },
   "outputs": [
    {
     "name": "stdout",
     "output_type": "stream",
     "text": [
      "1/1 [==============================] - 1s 534ms/step\n"
     ]
    }
   ],
   "source": [
    "# Generate the merged image\n",
    "merged_image_array = generator.predict([input_person_image, input_dress_image])"
   ]
  },
  {
   "cell_type": "code",
   "execution_count": 19,
   "id": "851db6c1c3b1205c",
   "metadata": {
    "collapsed": false,
    "ExecuteTime": {
     "end_time": "2024-01-21T16:06:40.880822Z",
     "start_time": "2024-01-21T16:06:40.816185Z"
    }
   },
   "outputs": [],
   "source": [
    "# Save the merged image as a PNG file\n",
    "merged_image_path = 'merged_image.png'\n",
    "image.save_img(merged_image_path, merged_image_array[0])"
   ]
  },
  {
   "cell_type": "code",
   "execution_count": null,
   "id": "4469031f-c6ab-4e44-bfee-3152d7b15aec",
   "metadata": {},
   "outputs": [],
   "source": []
  }
 ],
 "metadata": {
  "kernelspec": {
   "display_name": "Python 3 (ipykernel)",
   "language": "python",
   "name": "python3"
  },
  "language_info": {
   "codemirror_mode": {
    "name": "ipython",
    "version": 3
   },
   "file_extension": ".py",
   "mimetype": "text/x-python",
   "name": "python",
   "nbconvert_exporter": "python",
   "pygments_lexer": "ipython3",
   "version": "3.9.6"
  }
 },
 "nbformat": 4,
 "nbformat_minor": 5
}
